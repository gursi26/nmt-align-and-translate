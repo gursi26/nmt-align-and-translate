{
 "cells": [
  {
   "cell_type": "code",
   "execution_count": 1,
   "metadata": {},
   "outputs": [],
   "source": [
    "from model import BiGRUEncoder, GRUDecoder\n",
    "from dataset import EngSpaDataset\n",
    "from utils import sample_translation\n",
    "import torch"
   ]
  },
  {
   "cell_type": "code",
   "execution_count": 2,
   "metadata": {},
   "outputs": [],
   "source": [
    "def generate_sample(encoder, decoder, dataset, sentence, dev):\n",
    "    output_str = sample_translation(encoder, decoder, dataset, sentence, dev)\n",
    "    output_str = output_str.replace(\"<SOS>\", \"\")\n",
    "    output_str = output_str.replace(\"<EOS>\", \"\")\n",
    "    output_str = output_str.replace(\"<PAD>\", \"\")\n",
    "    return output_str.strip()"
   ]
  },
  {
   "cell_type": "code",
   "execution_count": 5,
   "metadata": {},
   "outputs": [
    {
     "data": {
      "text/plain": [
       "GRUDecoder(\n",
       "  (alignment): AlignmentModel(\n",
       "    (layer): Linear(in_features=1536, out_features=1, bias=True)\n",
       "  )\n",
       "  (embed): Embedding(21739, 512)\n",
       "  (linear): Linear(in_features=1536, out_features=512, bias=True)\n",
       "  (gru): GRU(512, 512, batch_first=True)\n",
       "  (out_proj): Linear(in_features=512, out_features=21739, bias=True)\n",
       "  (dropout): Dropout(p=0.3, inplace=False)\n",
       "  (relu): ReLU()\n",
       ")"
      ]
     },
     "execution_count": 5,
     "metadata": {},
     "output_type": "execute_result"
    }
   ],
   "source": [
    "DEV = torch.device(\"mps\")\n",
    "dataset = EngSpaDataset(\"data/eng-spa.csv\", \"data/nmt_glove.pkl\", end_idx=100000)\n",
    "encoder = BiGRUEncoder(input_size=300, hidden_size=512).to(DEV)\n",
    "decoder = GRUDecoder(512, len(dataset.spa2idx), 30, device=DEV).to(DEV)\n",
    "\n",
    "encoder.load_state_dict(torch.load(\"data/enc_final.pth\", map_location=DEV))\n",
    "decoder.load_state_dict(torch.load(\"data/dec_final.pth\", map_location=DEV))\n",
    "\n",
    "encoder.eval()\n",
    "decoder.eval()"
   ]
  },
  {
   "cell_type": "code",
   "execution_count": 6,
   "metadata": {},
   "outputs": [
    {
     "data": {
      "text/plain": [
       "'me gusta jugar al tenis'"
      ]
     },
     "execution_count": 6,
     "metadata": {},
     "output_type": "execute_result"
    }
   ],
   "source": [
    "generate_sample(encoder, decoder, dataset, \"i like to play tennis\", DEV)"
   ]
  },
  {
   "cell_type": "code",
   "execution_count": 5,
   "metadata": {},
   "outputs": [
    {
     "data": {
      "text/plain": [
       "'me gusta comer comer'"
      ]
     },
     "execution_count": 5,
     "metadata": {},
     "output_type": "execute_result"
    }
   ],
   "source": [
    "generate_sample(encoder, decoder, dataset, \"i like to eat\", DEV)"
   ]
  },
  {
   "cell_type": "code",
   "execution_count": 6,
   "metadata": {},
   "outputs": [
    {
     "data": {
      "text/plain": [
       "'me gusta ver películas al cine'"
      ]
     },
     "execution_count": 6,
     "metadata": {},
     "output_type": "execute_result"
    }
   ],
   "source": [
    "generate_sample(encoder, decoder, dataset, \"i like to watch movies\", DEV)"
   ]
  },
  {
   "cell_type": "code",
   "execution_count": 7,
   "metadata": {},
   "outputs": [
    {
     "data": {
      "text/plain": [
       "'mi madre es feliz de feliz'"
      ]
     },
     "execution_count": 7,
     "metadata": {},
     "output_type": "execute_result"
    }
   ],
   "source": [
    "generate_sample(encoder, decoder, dataset, \"my mom is happy\", DEV)"
   ]
  },
  {
   "cell_type": "code",
   "execution_count": 8,
   "metadata": {},
   "outputs": [
    {
     "data": {
      "text/plain": [
       "'mi padre es feliz de feliz'"
      ]
     },
     "execution_count": 8,
     "metadata": {},
     "output_type": "execute_result"
    }
   ],
   "source": [
    "generate_sample(encoder, decoder, dataset, \"my dad is happy\", DEV)"
   ]
  },
  {
   "cell_type": "code",
   "execution_count": 9,
   "metadata": {},
   "outputs": [
    {
     "data": {
      "text/plain": [
       "'tengo un coche de trabajo'"
      ]
     },
     "execution_count": 9,
     "metadata": {},
     "output_type": "execute_result"
    }
   ],
   "source": [
    "generate_sample(encoder, decoder, dataset, \"i have a car\", DEV)"
   ]
  },
  {
   "cell_type": "code",
   "execution_count": 10,
   "metadata": {},
   "outputs": [
    {
     "data": {
      "text/plain": [
       "'mis zapatos son zapatos de los zapatos'"
      ]
     },
     "execution_count": 10,
     "metadata": {},
     "output_type": "execute_result"
    }
   ],
   "source": [
    "generate_sample(encoder, decoder, dataset, \"my shoes are red\", DEV)"
   ]
  },
  {
   "cell_type": "code",
   "execution_count": 11,
   "metadata": {},
   "outputs": [
    {
     "data": {
      "text/plain": [
       "'tengo un dolor de mi espalda'"
      ]
     },
     "execution_count": 11,
     "metadata": {},
     "output_type": "execute_result"
    }
   ],
   "source": [
    "generate_sample(encoder, decoder, dataset, \"i have an ache in my back\", DEV)"
   ]
  }
 ],
 "metadata": {
  "kernelspec": {
   "display_name": "ml",
   "language": "python",
   "name": "python3"
  },
  "language_info": {
   "codemirror_mode": {
    "name": "ipython",
    "version": 3
   },
   "file_extension": ".py",
   "mimetype": "text/x-python",
   "name": "python",
   "nbconvert_exporter": "python",
   "pygments_lexer": "ipython3",
   "version": "3.9.13"
  },
  "orig_nbformat": 4
 },
 "nbformat": 4,
 "nbformat_minor": 2
}
