{
  "cells": [
    {
      "cell_type": "code",
      "execution_count": null,
      "metadata": {
        "id": "05ukSUNaI8Qw"
      },
      "outputs": [],
      "source": [
        "from torch.utils.data import DataLoader\n",
        "from torch import nn, optim\n",
        "from tqdm import tqdm\n",
        "import torch\n",
        "\n",
        "from dataset import EngSpaDataset\n",
        "from utils import sample_translation\n",
        "from model import BiGRUEncoder, GRUDecoder"
      ]
    },
    {
      "cell_type": "code",
      "execution_count": null,
      "metadata": {},
      "outputs": [],
      "source": [
        "NUM_SENTENCES = 100000\n",
        "BATCH_SIZE = 128\n",
        "HIDDEN_SIZE = 512\n",
        "LR = 3e-4\n",
        "MAX_LEN = 30\n",
        "EPOCHS = 10\n",
        "DECAY = 0.6\n",
        "DEV = torch.device(\"cpu\")"
      ]
    },
    {
      "cell_type": "code",
      "execution_count": null,
      "metadata": {
        "id": "yWIzx5i5I8Q0"
      },
      "outputs": [],
      "source": [
        "dataset = EngSpaDataset(\"eng-spa.csv\", \"nmt_glove.pkl\", end_idx=NUM_SENTENCES)\n",
        "loader = DataLoader(dataset, batch_size=BATCH_SIZE, shuffle=True)\n",
        "\n",
        "encoder = BiGRUEncoder(input_size=300, hidden_size=HIDDEN_SIZE).to(DEV)\n",
        "decoder = GRUDecoder(HIDDEN_SIZE, len(dataset.spa2idx), MAX_LEN, device=DEV).to(DEV)"
      ]
    },
    {
      "cell_type": "code",
      "execution_count": null,
      "metadata": {},
      "outputs": [],
      "source": [
        "crit = nn.CrossEntropyLoss()\n",
        "enc_opt = optim.Adam(encoder.parameters(), lr=LR)\n",
        "dec_opt = optim.Adam(decoder.parameters(), lr=LR)\n",
        "\n",
        "decay_fn = lambda epoch: DECAY\n",
        "enc_scheduler = optim.lr_scheduler.MultiplicativeLR(enc_opt, decay_fn)\n",
        "dec_scheduler = optim.lr_scheduler.MultiplicativeLR(dec_opt, decay_fn)"
      ]
    },
    {
      "cell_type": "code",
      "execution_count": null,
      "metadata": {
        "colab": {
          "base_uri": "https://localhost:8080/",
          "height": 580
        },
        "id": "q7ia8ST-I8Q0",
        "outputId": "d3841ff8-4f48-4eaf-b694-eb6572a599ac"
      },
      "outputs": [],
      "source": [
        "for e in range(1, EPOCHS + 1):\n",
        "    encoder.train()\n",
        "    decoder.train()\n",
        "    loop = tqdm(enumerate(loader), total=len(loader), position=0)\n",
        "    loop.set_description(f\"Epoch : [{e}/{EPOCHS}]\")\n",
        "    total_loss = 0\n",
        "    for i, ((x, src_mask), (y, tgt_mask)) in loop:\n",
        "        batch_size, seq_len = y.shape\n",
        "        x, y = x.to(DEV), y.to(DEV)\n",
        "        encoder.zero_grad()\n",
        "        decoder.zero_grad()\n",
        "\n",
        "        encoded_source = encoder(x)\n",
        "        yhat = decoder(encoded_source, y)\n",
        "\n",
        "        loss = crit(yhat[:, :seq_len, :].reshape(-1, yhat.shape[-1]), y.view(-1))\n",
        "        loss.backward()\n",
        "        enc_opt.step()\n",
        "        dec_opt.step()\n",
        "\n",
        "        total_loss += loss.item()\n",
        "        loop.set_postfix(loss = total_loss / (i+1))\n",
        "\n",
        "    enc_scheduler.step()\n",
        "    dec_scheduler.step()\n",
        "    \n",
        "    encoder.eval()\n",
        "    decoder.eval()\n",
        "\n",
        "    with torch.no_grad():\n",
        "        print(sample_translation(encoder, decoder, dataset, \"i like to swim everyday\", DEV))\n",
        "\n",
        "    torch.save(encoder.state_dict(), f\"{e}enc.pth\")\n",
        "    torch.save(decoder.state_dict(), f\"{e}dec.pth\")"
      ]
    }
  ],
  "metadata": {
    "accelerator": "GPU",
    "colab": {
      "gpuType": "T4",
      "provenance": []
    },
    "kernelspec": {
      "display_name": "Python 3",
      "name": "python3"
    },
    "language_info": {
      "codemirror_mode": {
        "name": "ipython",
        "version": 3
      },
      "file_extension": ".py",
      "mimetype": "text/x-python",
      "name": "python",
      "nbconvert_exporter": "python",
      "pygments_lexer": "ipython3",
      "version": "3.9.13"
    },
    "orig_nbformat": 4
  },
  "nbformat": 4,
  "nbformat_minor": 0
}
